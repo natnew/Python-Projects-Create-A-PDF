{
  "nbformat": 4,
  "nbformat_minor": 0,
  "metadata": {
    "colab": {
      "name": "Create a PDF.ipynb",
      "provenance": [],
      "authorship_tag": "ABX9TyPRmY5MuJ5C/hoF65X0ezQ2",
      "include_colab_link": true
    },
    "kernelspec": {
      "name": "python3",
      "display_name": "Python 3"
    },
    "language_info": {
      "name": "python"
    }
  },
  "cells": [
    {
      "cell_type": "markdown",
      "metadata": {
        "id": "view-in-github",
        "colab_type": "text"
      },
      "source": [
        "<a href=\"https://colab.research.google.com/github/natnew/Python-Projects-Create-A-PDF/blob/main/Create_a_PDF.ipynb\" target=\"_parent\"><img src=\"https://colab.research.google.com/assets/colab-badge.svg\" alt=\"Open In Colab\"/></a>"
      ]
    },
    {
      "cell_type": "markdown",
      "metadata": {
        "id": "8LMkogBLW9uo"
      },
      "source": [
        "Create a PDF"
      ]
    },
    {
      "cell_type": "code",
      "metadata": {
        "colab": {
          "base_uri": "https://localhost:8080/"
        },
        "id": "UuV5cq-QVOF0",
        "outputId": "8f9f4cdc-fa0b-443b-b6ff-67e0bc33652c"
      },
      "source": [
        "!pip install reportlab"
      ],
      "execution_count": 4,
      "outputs": [
        {
          "output_type": "stream",
          "name": "stdout",
          "text": [
            "Collecting reportlab\n",
            "  Downloading reportlab-3.6.2-cp37-cp37m-manylinux_2_17_x86_64.manylinux2014_x86_64.whl (2.7 MB)\n",
            "\u001b[K     |████████████████████████████████| 2.7 MB 5.2 MB/s \n",
            "\u001b[?25hRequirement already satisfied: pillow>=4.0.0 in /usr/local/lib/python3.7/dist-packages (from reportlab) (7.1.2)\n",
            "Installing collected packages: reportlab\n",
            "Successfully installed reportlab-3.6.2\n"
          ]
        }
      ]
    },
    {
      "cell_type": "code",
      "metadata": {
        "id": "-R4Zi2TzV2pI"
      },
      "source": [
        "from reportlab.pdfgen import canvas"
      ],
      "execution_count": 5,
      "outputs": []
    },
    {
      "cell_type": "code",
      "metadata": {
        "id": "yK_HI6BoV-C2"
      },
      "source": [
        "my_canvas = canvas.Canvas(\"Hello World.pdf\")\n",
        "my_canvas.drawString(100,750, \"Welcome to Reportlab!\")\n",
        "my_canvas.save()"
      ],
      "execution_count": 6,
      "outputs": []
    }
  ]
}